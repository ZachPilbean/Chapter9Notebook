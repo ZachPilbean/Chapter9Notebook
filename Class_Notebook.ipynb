{
 "cells": [
  {
   "cell_type": "markdown",
   "id": "4ef4485e",
   "metadata": {},
   "source": [
    "# Ch9 Classes"
   ]
  },
  {
   "cell_type": "markdown",
   "id": "7b465366",
   "metadata": {},
   "source": [
    "### Python is an object oriented programming language.\n",
    "- Almost everything in Python is an object, with its properties and methods (Functions).\n",
    "- A Class is like an object constructor, or a \"blueprint\" for creating objects."
   ]
  },
  {
   "cell_type": "code",
   "execution_count": 16,
   "id": "741b88de",
   "metadata": {},
   "outputs": [
    {
     "name": "stdout",
     "output_type": "stream",
     "text": [
      "Angel\n",
      "Hill\n",
      "Employee full name : Angel Hill\n",
      "Employee full name : Walter White\n"
     ]
    }
   ],
   "source": [
    "class Employee():\n",
    "    # init is the constructor of the class\n",
    "    # self is used to represent the instance of a class\n",
    "    def __init__(self, first, last, age, dept): # method/function\n",
    "        self.first=first.title()\n",
    "        self.last=last.title()\n",
    "        self.age=age\n",
    "        self.dept=dept.title()\n",
    "    def fullname(self):\n",
    "        return f\"Employee full name : {self.first} {self.last}\"\n",
    "\n",
    "\n",
    "emp_1=Employee('angel', 'hill', 32, 'accounting')\n",
    "emp_2=Employee('walter', 'white', 35, 'finance')\n",
    "print(emp_1.first)\n",
    "print(emp_1.last)\n",
    "print(emp_1.fullname())\n",
    "print(emp_2.fullname())\n",
    "#print(f\"Employee full name : {emp_1.first} {emp_1.last}\")"
   ]
  },
  {
   "cell_type": "markdown",
   "id": "5d60f7c0",
   "metadata": {},
   "source": [
    "### Creating the Dog Class\n",
    "Each instance created from the Dog class will store a name and an age, and we’ll give each dog the ability to sit() and roll_over():"
   ]
  },
  {
   "cell_type": "code",
   "execution_count": 17,
   "id": "6e84155c",
   "metadata": {},
   "outputs": [],
   "source": [
    "class Dog():\n",
    "    def __init__(self, name, age):\n",
    "        self.name=name\n",
    "        self.age=age\n",
    "    def sit(self):\n",
    "        print(f\"{self.name} is now sitting\")\n",
    "    def rollover(self):\n",
    "        print(f\"{self.name} is now rolling over\")\n"
   ]
  },
  {
   "cell_type": "code",
   "execution_count": 22,
   "id": "3c70e9c0",
   "metadata": {},
   "outputs": [
    {
     "name": "stdout",
     "output_type": "stream",
     "text": [
      "Rex\n",
      "8\n",
      "Bradley\n",
      "2\n",
      "Rex is now sitting\n",
      "Bradley is now rolling over\n"
     ]
    }
   ],
   "source": [
    "dog_1=Dog('Rex', 8)\n",
    "dog_2=Dog('Bradley', 2)\n",
    "print(dog_1.name)\n",
    "print(dog_1.age)\n",
    "print(dog_2.name)\n",
    "print(dog_2.age)\n",
    "dog_1.sit()\n",
    "dog_2.rollover()"
   ]
  },
  {
   "cell_type": "markdown",
   "id": "8bbcc5c0",
   "metadata": {},
   "source": [
    "#### Note:\n",
    "- By convention, capitalized names refer to classes in Python. \n",
    "- The parentheses in the class definition are empty because we’re creating this class from scratch.\n",
    "- All classes have a function called __init__(), which is always executed when the class is being initiated.\n",
    "- Use the __init__() function to assign values to object properties, or other operations that are necessary to do when the object is being created\n",
    "- Any variable prefixed with `self` is available to every method in the class, and we’ll also be able to access these variables through any instance created from the class.\n",
    "- The Dog class has two other methods defined: sit() and roll_over().Because these methods don’t need additional information like a name or age, we just define them to have one parameter, self."
   ]
  },
  {
   "cell_type": "markdown",
   "id": "402f0696",
   "metadata": {},
   "source": [
    "### Restaurant: Make a class called Restaurant. The __init__() method for Restaurant should store two attributes: a restaurant_name and a cuisine_type.\n",
    "- Make a method called `describe_restaurant()` that prints name of teh restrurent and the cuisine type\n",
    "- and a method called open_restaurant() that prints a message indicating that the restaurant is open.\n",
    "- Make an instance called restaurant from your class. Print the two attributes individually, and then call both methods.\n"
   ]
  },
  {
   "cell_type": "code",
   "execution_count": 27,
   "id": "c4316b2d",
   "metadata": {},
   "outputs": [],
   "source": [
    "class Restaurant():\n",
    "    def __init__(self, name, cuisine):\n",
    "        self.name=name.title()\n",
    "        self.cuisine=cuisine.title()\n",
    "    def open_restaurant(self):\n",
    "        print(f\"{self.name} is now open\")\n",
    "    def describe_restaurant(self):\n",
    "        print(f\"{self.name} is a {self.cuisine} restaurant\")\n"
   ]
  },
  {
   "cell_type": "code",
   "execution_count": 30,
   "id": "f9be3f46",
   "metadata": {},
   "outputs": [
    {
     "name": "stdout",
     "output_type": "stream",
     "text": [
      "Olive Garden is a Italian restaurant\n",
      "Chilis is now open\n"
     ]
    }
   ],
   "source": [
    "rest=Restaurant('Olive Garden', 'Italian')\n",
    "rest2=Restaurant('Chilis', 'TexMex')\n",
    "\n",
    "rest.describe_restaurant()\n",
    "rest2.open_restaurant()"
   ]
  },
  {
   "cell_type": "markdown",
   "id": "8b4a4fca",
   "metadata": {},
   "source": [
    "### - Create three different instances from the class, and call describe_restaurant() for each instance."
   ]
  },
  {
   "cell_type": "code",
   "execution_count": 32,
   "id": "b3845fe0",
   "metadata": {},
   "outputs": [
    {
     "name": "stdout",
     "output_type": "stream",
     "text": [
      "Olive Garden is a Italian restaurant\n",
      "Chilis is now open\n",
      "Mcdonalds is a Fast Food restaurant\n"
     ]
    }
   ],
   "source": [
    "rest=Restaurant('Olive Garden', 'Italian')\n",
    "rest2=Restaurant('Chilis', 'TexMex')\n",
    "rest3=Restaurant('Mcdonalds', 'fast food')\n",
    "rest.describe_restaurant()\n",
    "rest2.open_restaurant()\n",
    "rest3.describe_restaurant()"
   ]
  },
  {
   "cell_type": "markdown",
   "id": "8f4032c6",
   "metadata": {},
   "source": [
    "### Users: Make a class called User. Create attributes called first_name and last_name, username, location \n",
    "- Make a method called describe_user() that prints a summary of the user’s information. \n",
    "- Make another method called greet_user() that prints a personalized greeting to the user.\n",
    "- Create several instances representing different users, and call both methods for each user."
   ]
  },
  {
   "cell_type": "code",
   "execution_count": 37,
   "id": "dda94ce2",
   "metadata": {},
   "outputs": [],
   "source": [
    "class User():\n",
    "    def __init__(self, firstname, lastname, username, location):\n",
    "        self.firstname=firstname.title()\n",
    "        self.lastname=lastname.title()\n",
    "        self.username=username\n",
    "        self.location=location.title()\n",
    "    def describe_user(self):\n",
    "        print(self.firstname, self.lastname, self.username, self.location)\n",
    "    def greet_user(self):\n",
    "        print(f'How are you doing, {self.firstname}')"
   ]
  },
  {
   "cell_type": "code",
   "execution_count": 38,
   "id": "8864d617",
   "metadata": {},
   "outputs": [
    {
     "name": "stdout",
     "output_type": "stream",
     "text": [
      "John Smith jsmith1 Kentucky\n",
      "How are you doing, John\n",
      "Joe Johnson jj500 Florida\n",
      "How are you doing, Joe\n"
     ]
    }
   ],
   "source": [
    "user1=User('john', 'smith', 'jsmith1', 'Kentucky')\n",
    "user2=User('joe', 'johnson', 'jj500', 'Florida')\n",
    "\n",
    "user1.describe_user()\n",
    "user1.greet_user()\n",
    "user2.describe_user()\n",
    "user2.greet_user()"
   ]
  },
  {
   "cell_type": "markdown",
   "id": "8b5bfff2",
   "metadata": {},
   "source": [
    "## Setting a Default Value for an Attribute"
   ]
  },
  {
   "cell_type": "code",
   "execution_count": 86,
   "id": "bbdc7a10",
   "metadata": {},
   "outputs": [],
   "source": [
    "class car():\n",
    "    def __init__(self, make, model, year):\n",
    "        self.make=make\n",
    "        self.model=model\n",
    "        self.year=year\n",
    "        self.odometer_reading=100\n",
    "    def get_descriptive_name(self):\n",
    "        long_name=str(self.year)+ ' ' + self.make + ' ' + self.model\n",
    "        return long_name.title()\n",
    "    def read_odometer(self):\n",
    "        print(f'This car has {self.odometer_reading} miles on it')\n",
    "    def update_odometer(self, mileage):\n",
    "        self.odometer_reading+=mileage"
   ]
  },
  {
   "cell_type": "code",
   "execution_count": 87,
   "id": "35859896",
   "metadata": {},
   "outputs": [
    {
     "data": {
      "text/plain": [
       "'2020 Nissan Altima'"
      ]
     },
     "execution_count": 87,
     "metadata": {},
     "output_type": "execute_result"
    }
   ],
   "source": [
    "my_car=car('Nissan', 'Altima', 2020)\n",
    "my_car.get_descriptive_name()\n"
   ]
  },
  {
   "cell_type": "code",
   "execution_count": 88,
   "id": "9ea6316b",
   "metadata": {},
   "outputs": [
    {
     "name": "stdout",
     "output_type": "stream",
     "text": [
      "This car has 100 miles on it\n"
     ]
    }
   ],
   "source": [
    "my_car.read_odometer()"
   ]
  },
  {
   "cell_type": "code",
   "execution_count": 89,
   "id": "3d4a0153",
   "metadata": {},
   "outputs": [],
   "source": [
    "my_car.update_odometer(40)"
   ]
  },
  {
   "cell_type": "code",
   "execution_count": 90,
   "id": "7224293a",
   "metadata": {},
   "outputs": [
    {
     "name": "stdout",
     "output_type": "stream",
     "text": [
      "This car has 140 miles on it\n"
     ]
    }
   ],
   "source": [
    "my_car.read_odometer()"
   ]
  },
  {
   "cell_type": "markdown",
   "id": "3f840f3e",
   "metadata": {},
   "source": [
    "#### Modifying an Attribute’s Value Directly"
   ]
  },
  {
   "cell_type": "code",
   "execution_count": 166,
   "id": "6f8fa540",
   "metadata": {},
   "outputs": [
    {
     "name": "stdout",
     "output_type": "stream",
     "text": [
      "This car has 23 miles on it.\n"
     ]
    }
   ],
   "source": [
    "my_new_car.odometer_reading = 23\n",
    "my_new_car.read_odometer()"
   ]
  },
  {
   "cell_type": "markdown",
   "id": "27f8f244",
   "metadata": {},
   "source": [
    "### Modifying an Attribute’s Value Through a Method"
   ]
  },
  {
   "cell_type": "code",
   "execution_count": 163,
   "id": "9b3ae956",
   "metadata": {},
   "outputs": [
    {
     "name": "stdout",
     "output_type": "stream",
     "text": [
      "2016 Nissan Versa\n",
      "This car has 23 miles on it.\n"
     ]
    }
   ],
   "source": [
    "class Car():\n",
    "    def __init__(self, make, model, year):\n",
    "        self.make=make\n",
    "        self.model=model\n",
    "        self.year=year\n",
    "        self.odometer_reading=0\n",
    "\n",
    "    def get_descriptive_name(self):\n",
    "        long_name = str(self.year) + ' ' + self.make + ' ' + self.model\n",
    "        return long_name.title()\n",
    "\n",
    "    def read_odometer(self):\n",
    "        print(\"This car has \" + str(self.odometer_reading) + \" miles on it.\")\n",
    "    def update_odometer(self, mileage):\n",
    "        self.odometer_reading = mileage   \n",
    "        \n",
    "my_new_car = Car('Nissan', 'Versa', 2016)\n",
    "\n",
    "print(my_new_car.get_descriptive_name())\n",
    "my_new_car.update_odometer(23)\n",
    "my_new_car.read_odometer()"
   ]
  },
  {
   "cell_type": "markdown",
   "id": "fd560131",
   "metadata": {},
   "source": [
    "### Incrementing an Attribute’s Value Through a Method"
   ]
  },
  {
   "cell_type": "code",
   "execution_count": 164,
   "id": "8d76b884",
   "metadata": {},
   "outputs": [
    {
     "name": "stdout",
     "output_type": "stream",
     "text": [
      "2016 Nissan Versa\n",
      "This car has 23 miles on it.\n"
     ]
    }
   ],
   "source": [
    "class Car():\n",
    "    def __init__(self, make, model, year):\n",
    "        self.make=make\n",
    "        self.model=model\n",
    "        self.year=year\n",
    "        self.odometer_reading=0\n",
    "\n",
    "    def get_descriptive_name(self):\n",
    "        long_name = str(self.year) + ' ' + self.make + ' ' + self.model\n",
    "        return long_name.title()\n",
    "\n",
    "    def read_odometer(self):\n",
    "        print(\"This car has \" + str(self.odometer_reading) + \" miles on it.\")\n",
    "    def update_odometer(self, mileage):\n",
    "        self.odometer_reading = mileage  \n",
    "        \n",
    "    def incremental_odometer(self,miles):\n",
    "        self.odometer_reading+=miles\n",
    "        \n",
    "my_new_car = Car('Nissan', 'Versa', 2016)\n",
    "\n",
    "print(my_new_car.get_descriptive_name())\n",
    "my_new_car.update_odometer(23)\n",
    "my_new_car.read_odometer()"
   ]
  },
  {
   "cell_type": "code",
   "execution_count": 165,
   "id": "1500c7e7",
   "metadata": {},
   "outputs": [
    {
     "name": "stdout",
     "output_type": "stream",
     "text": [
      "This car has 123 miles on it.\n"
     ]
    }
   ],
   "source": [
    "my_new_car.incremental_odometer(100)\n",
    "my_new_car.read_odometer()"
   ]
  },
  {
   "cell_type": "markdown",
   "id": "b96f0d18",
   "metadata": {},
   "source": [
    "# Inheritance\n",
    "- You don’t always have to start from scratch when writing a class. If the class you’re writing is a specialized version of another class you wrote, you can use inheritance. \n",
    "- When one class inherits from another, it automatically takes on all the attributes and methods of the first class. The original class is called the `parent class`, and the new class is the `child class`. \n",
    "- The child class inherits every attribute and method from its parent class but is also free to define new attributes and methods of its own."
   ]
  },
  {
   "cell_type": "markdown",
   "id": "9d3cfa56",
   "metadata": {},
   "source": [
    "### Parent Class"
   ]
  },
  {
   "cell_type": "code",
   "execution_count": 91,
   "id": "5b7c3efd",
   "metadata": {},
   "outputs": [],
   "source": [
    "class car():\n",
    "    def __init__(self, make, model, year):\n",
    "        self.make=make\n",
    "        self.model=model\n",
    "        self.year=year\n",
    "        self.odometer_reading=100\n",
    "    def get_descriptive_name(self):\n",
    "        long_name=str(self.year)+ ' ' + self.make + ' ' + self.model\n",
    "        return long_name.title()\n",
    "    def read_odometer(self):\n",
    "        print(f'This car has {self.odometer_reading} miles on it')\n",
    "    def update_odometer(self, mileage):\n",
    "        self.odometer_reading+=mileage"
   ]
  },
  {
   "cell_type": "markdown",
   "id": "fbcffa50",
   "metadata": {},
   "source": [
    "### Child Class"
   ]
  },
  {
   "cell_type": "code",
   "execution_count": 95,
   "id": "34de9649",
   "metadata": {},
   "outputs": [],
   "source": [
    "class electriccar(car):\n",
    "    def __init__(self, make, model, year):\n",
    "        super().__init__(make, model, year) # inherit the parent class attributes \n",
    "        "
   ]
  },
  {
   "cell_type": "code",
   "execution_count": 96,
   "id": "67007109",
   "metadata": {},
   "outputs": [
    {
     "name": "stdout",
     "output_type": "stream",
     "text": [
      "2021 Tesla X\n"
     ]
    }
   ],
   "source": [
    "my_tesla=electriccar('Tesla', 'X', 2021)\n",
    "print(my_tesla.get_descriptive_name())"
   ]
  },
  {
   "cell_type": "markdown",
   "id": "5b594c20",
   "metadata": {},
   "source": [
    "### Practice: Create a class named Person, with firstname and lastname properties, and a printname method:"
   ]
  },
  {
   "cell_type": "code",
   "execution_count": 107,
   "id": "681edaaf",
   "metadata": {},
   "outputs": [],
   "source": [
    "class Person():\n",
    "    def __init__(self, firstname, lastname):\n",
    "        self.firstname=firstname.title()\n",
    "        self.lastname=lastname.title()\n",
    "    def printname(self):\n",
    "        fullname= str(self.firstname)+ ' ' + self.lastname \n",
    "        print(f'Full name: {fullname}')"
   ]
  },
  {
   "cell_type": "code",
   "execution_count": 108,
   "id": "9d3a0e56",
   "metadata": {},
   "outputs": [
    {
     "name": "stdout",
     "output_type": "stream",
     "text": [
      "Full name: John Smith\n"
     ]
    }
   ],
   "source": [
    "my_friend=Person('John', 'Smith')\n",
    "my_friend.printname()"
   ]
  },
  {
   "cell_type": "markdown",
   "id": "a8023470",
   "metadata": {},
   "source": [
    "### Create child classes called Student using Inheritance contains the first and last name and the graduation year \n",
    "- Add a method called `welcome` that prints the student graduation year\n",
    "- Test the student method for two students"
   ]
  },
  {
   "cell_type": "code",
   "execution_count": 113,
   "id": "8a1571d5",
   "metadata": {},
   "outputs": [],
   "source": [
    "class Student(Person):\n",
    "    def __init__(self, firstname, lastname, year):\n",
    "        super().__init__(firstname, lastname)\n",
    "        self.year=year\n",
    "    def welcome(self):\n",
    "        print(f'The graduation year for {self.firstname} {self.lastname} is: {self.year}')\n",
    "        "
   ]
  },
  {
   "cell_type": "code",
   "execution_count": 115,
   "id": "5816f6a4",
   "metadata": {},
   "outputs": [
    {
     "name": "stdout",
     "output_type": "stream",
     "text": [
      "The graduation year for John Doe is: 2020\n",
      "The graduation year for Alan Jackson is: 2021\n"
     ]
    }
   ],
   "source": [
    "student1=Student('John', 'Doe', 2020)\n",
    "student2=Student('Alan', 'Jackson', 2021)\n",
    "student1.welcome()\n",
    "student2.welcome()"
   ]
  },
  {
   "cell_type": "markdown",
   "id": "e024f37e",
   "metadata": {},
   "source": [
    "# Create rectangle and square classes and create methods for calculating the area and perimeter"
   ]
  },
  {
   "cell_type": "code",
   "execution_count": 119,
   "id": "6f7eb64b",
   "metadata": {},
   "outputs": [],
   "source": [
    "class rectangle():\n",
    "    def __init__(self, length, width):\n",
    "        self.length=length\n",
    "        self.width=width\n",
    "    def area(self):\n",
    "        calc_area= self.length * self.width\n",
    "        print(f'The area is: {calc_area}')\n",
    "    def perimeter(self):\n",
    "        calc_perim= self.length + self.length + self.width + self.width\n",
    "        print(f'The perimeter is: {calc_perim}')\n",
    "    "
   ]
  },
  {
   "cell_type": "code",
   "execution_count": 127,
   "id": "caecc794",
   "metadata": {},
   "outputs": [],
   "source": [
    "class square():\n",
    "    def __init__(self, length):\n",
    "        self.length=length\n",
    "    def area(self):\n",
    "        calc_area= self.length*self.length\n",
    "        print(f'The area is: {calc_area}')\n",
    "    def perimeter(self):\n",
    "        calc_perim= self.length * 4\n",
    "        print(f'The perimeter is: {calc_perim}')"
   ]
  },
  {
   "cell_type": "code",
   "execution_count": 128,
   "id": "849fac71",
   "metadata": {},
   "outputs": [
    {
     "name": "stdout",
     "output_type": "stream",
     "text": [
      "The area is: 20\n",
      "The perimeter is: 18\n"
     ]
    }
   ],
   "source": [
    "shape1=rectangle(4, 5)\n",
    "shape1.area()\n",
    "shape1.perimeter()"
   ]
  },
  {
   "cell_type": "code",
   "execution_count": 129,
   "id": "601f7ca2",
   "metadata": {},
   "outputs": [
    {
     "name": "stdout",
     "output_type": "stream",
     "text": [
      "The area is: 9\n",
      "The perimeter is: 12\n"
     ]
    }
   ],
   "source": [
    "shape2=square(3)\n",
    "shape2.area()\n",
    "shape2.perimeter()"
   ]
  },
  {
   "cell_type": "markdown",
   "id": "0c88bc4d",
   "metadata": {},
   "source": [
    "## Use inheritance to create square class from parent class rectangle"
   ]
  },
  {
   "cell_type": "code",
   "execution_count": 154,
   "id": "0ef9a14c",
   "metadata": {},
   "outputs": [],
   "source": [
    "class square(rectangle):\n",
    "    def __init__(self, length):\n",
    "        super().__init__(length,length)"
   ]
  },
  {
   "cell_type": "code",
   "execution_count": 155,
   "id": "883552fe",
   "metadata": {},
   "outputs": [
    {
     "name": "stdout",
     "output_type": "stream",
     "text": [
      "The area is: 25\n",
      "The perimeter is: 20\n"
     ]
    }
   ],
   "source": [
    "shape3=square(5)\n",
    "shape3.area()\n",
    "shape3.perimeter()"
   ]
  },
  {
   "cell_type": "markdown",
   "id": "3bdcfd1c",
   "metadata": {},
   "source": [
    "## Create a simple calculator using classes"
   ]
  },
  {
   "cell_type": "code",
   "execution_count": 157,
   "id": "6ab4b4b1",
   "metadata": {},
   "outputs": [
    {
     "name": "stdout",
     "output_type": "stream",
     "text": [
      "1. Addition\n",
      "2. Subtraction\n",
      "3. Multiplication\n",
      "4. Division\n",
      "5. Exit\n",
      "Enter your choice(1-5):1\n",
      "Enter 1st Number:2\n",
      "Enter 2nd Number:2\n",
      "Addition= 4\n",
      "1. Addition\n",
      "2. Subtraction\n",
      "3. Multiplication\n",
      "4. Division\n",
      "5. Exit\n",
      "Enter your choice(1-5):5\n"
     ]
    }
   ],
   "source": [
    "class calc():\n",
    "    def __init__(self,input1,input2):\n",
    "        self.input1=input1\n",
    "        self.input2=input2\n",
    "    def addition(num1,num2):\n",
    "        print(\"Addition=\",num1+num2)\n",
    "\n",
    "    def subtraction(num1,num2):\n",
    "        print(\"Subtraction=\",num1-num2)\n",
    "\n",
    "    def multiplication(num1,num2):\n",
    "        print(\"Multiplication=\",num1*num2)\n",
    "\n",
    "    def division(num1,num2):\n",
    "        print(\"Division=\",num1/num2)\n",
    "\n",
    "while True:\n",
    "    print(\"1. Addition\")\n",
    "    print(\"2. Subtraction\")\n",
    "    print(\"3. Multiplication\")\n",
    "    print(\"4. Division\")    \n",
    "    print(\"5. Exit\")\n",
    "    choice=int(input(\"Enter your choice(1-5):\"))\n",
    "\n",
    "    if choice==1:\n",
    "        num1=int(input(\"Enter 1st Number:\"))\n",
    "        num2=int(input(\"Enter 2nd Number:\"))\n",
    "        calc.addition(num1,num2)\n",
    "\n",
    "\n",
    "    elif choice==2:\n",
    "        num1=int(input(\"Enter 1st Number:\"))\n",
    "        num2=int(input(\"Enter 2nd Number:\"))\n",
    "        calc.subtraction(num1,num2)\n",
    "    \n",
    "    elif choice==3:\n",
    "        num1=int(input(\"Enter 1st Number:\"))\n",
    "        num2=int(input(\"Enter 2nd Number:\"))\n",
    "        calc.multiplication(num1,num2)\n",
    "    \n",
    "    elif choice==4:\n",
    "        num1=int(input(\"Enter 1st Number:\"))\n",
    "        num2=int(input(\"Enter 2nd Number:\"))\n",
    "        if num2 == 0:\n",
    "            print('Infinity')\n",
    "        else:\n",
    "            calc.division(num1,num2)\n",
    "                \n",
    "    elif choice==5:\n",
    "        break\n",
    "    else:\n",
    "        print(\"Wrong Choice\")"
   ]
  },
  {
   "cell_type": "markdown",
   "id": "0ec161b5",
   "metadata": {},
   "source": [
    "## ATM machine "
   ]
  },
  {
   "cell_type": "code",
   "execution_count": 158,
   "id": "267c3e25",
   "metadata": {},
   "outputs": [],
   "source": [
    "class Bank_Account:\n",
    "    def __init__(self):\n",
    "        self.balance=0\n",
    "        print(\"Hello!!! Welcome to the ATM machine\")\n",
    " \n",
    "    def deposit(self):\n",
    "        amount=float(input(\"Enter amount to be Deposited: \"))\n",
    "        self.balance += amount\n",
    "        print(\"\\n Amount Deposited:\",amount)\n",
    " \n",
    "    def withdraw(self):\n",
    "        amount = float(input(\"Enter amount to be Withdrawn: \"))\n",
    "        if self.balance>=amount:\n",
    "            self.balance-=amount\n",
    "            print(\"\\n You Withdrew:\", amount)\n",
    "        else:\n",
    "            print(\"\\n Insufficient balance  \")\n",
    " \n",
    "    def display(self):\n",
    "        print(\"\\n Net Available Balance=\",self.balance)"
   ]
  },
  {
   "cell_type": "code",
   "execution_count": 159,
   "id": "a6e40459",
   "metadata": {},
   "outputs": [
    {
     "name": "stdout",
     "output_type": "stream",
     "text": [
      "Hello!!! Welcome to the ATM machine\n",
      "Enter amount to be Deposited: 400\n",
      "\n",
      " Amount Deposited: 400.0\n"
     ]
    }
   ],
   "source": [
    "my_account = Bank_Account()\n",
    "  \n",
    "# Calling functions with that class object\n",
    "my_account.deposit()"
   ]
  },
  {
   "cell_type": "code",
   "execution_count": 160,
   "id": "5349965d",
   "metadata": {},
   "outputs": [
    {
     "name": "stdout",
     "output_type": "stream",
     "text": [
      "Enter amount to be Deposited: 300\n",
      "\n",
      " Amount Deposited: 300.0\n"
     ]
    }
   ],
   "source": [
    "my_account.deposit()\n"
   ]
  },
  {
   "cell_type": "code",
   "execution_count": 161,
   "id": "2f3efd55",
   "metadata": {},
   "outputs": [
    {
     "name": "stdout",
     "output_type": "stream",
     "text": [
      "\n",
      " Net Available Balance= 700.0\n"
     ]
    }
   ],
   "source": [
    "my_account.display()"
   ]
  },
  {
   "cell_type": "code",
   "execution_count": 162,
   "id": "9af767c8",
   "metadata": {},
   "outputs": [
    {
     "name": "stdout",
     "output_type": "stream",
     "text": [
      "Enter amount to be Withdrawn: 500\n",
      "\n",
      " You Withdrew: 500.0\n",
      "\n",
      " Net Available Balance= 200.0\n"
     ]
    }
   ],
   "source": [
    "my_account.withdraw()\n",
    "my_account.display()"
   ]
  }
 ],
 "metadata": {
  "kernelspec": {
   "display_name": "Python 3 (ipykernel)",
   "language": "python",
   "name": "python3"
  },
  "language_info": {
   "codemirror_mode": {
    "name": "ipython",
    "version": 3
   },
   "file_extension": ".py",
   "mimetype": "text/x-python",
   "name": "python",
   "nbconvert_exporter": "python",
   "pygments_lexer": "ipython3",
   "version": "3.9.12"
  }
 },
 "nbformat": 4,
 "nbformat_minor": 5
}
